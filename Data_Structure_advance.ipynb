{
  "nbformat": 4,
  "nbformat_minor": 0,
  "metadata": {
    "colab": {
      "provenance": []
    },
    "kernelspec": {
      "name": "python3",
      "display_name": "Python 3"
    },
    "language_info": {
      "name": "python"
    }
  },
  "cells": [
    {
      "cell_type": "markdown",
      "source": [
        "1.Write a code to reverse a string."
      ],
      "metadata": {
        "id": "inf9WQVp8Atm"
      }
    },
    {
      "cell_type": "code",
      "source": [
        "string = \"Welcome\"\n",
        "reversed_string = string[::-1]\n",
        "print(reversed_string)"
      ],
      "metadata": {
        "colab": {
          "base_uri": "https://localhost:8080/"
        },
        "id": "AQ-rgHj48Cd-",
        "outputId": "761b61f1-1685-4a9a-8185-fe95b0bc6e55"
      },
      "execution_count": null,
      "outputs": [
        {
          "output_type": "stream",
          "name": "stdout",
          "text": [
            "emocleW\n"
          ]
        }
      ]
    },
    {
      "cell_type": "markdown",
      "source": [
        "2.Write a code to count the number of vowels in a string."
      ],
      "metadata": {
        "id": "t5mGYiq58Mlh"
      }
    },
    {
      "cell_type": "code",
      "source": [
        "string = \"Good Afternoon\"\n",
        "vowels = \"aeiouAEIOU\"\n",
        "count = sum(string.count(vowel) for vowel in vowels)\n",
        "print(count)"
      ],
      "metadata": {
        "colab": {
          "base_uri": "https://localhost:8080/"
        },
        "id": "bLBXdLWk8QeA",
        "outputId": "13424b5b-9a54-457c-b5a4-37e06448ef4f"
      },
      "execution_count": null,
      "outputs": [
        {
          "output_type": "stream",
          "name": "stdout",
          "text": [
            "6\n"
          ]
        }
      ]
    },
    {
      "cell_type": "markdown",
      "source": [
        "3.Write a code to check if a given string is palindrome or not."
      ],
      "metadata": {
        "id": "bw863ICD8Mpk"
      }
    },
    {
      "cell_type": "code",
      "source": [
        "string = \"noon\"\n",
        "if string == string[::-1]:\n",
        "  print(\"It's a palindrome\")\n",
        "else:\n",
        "  print(\"It's not a palindrome\")"
      ],
      "metadata": {
        "colab": {
          "base_uri": "https://localhost:8080/"
        },
        "id": "MfASlDNG8bER",
        "outputId": "a4bd6f4e-b893-40ea-ab5d-3d15a6c69441"
      },
      "execution_count": null,
      "outputs": [
        {
          "output_type": "stream",
          "name": "stdout",
          "text": [
            "It's a palindrome\n"
          ]
        }
      ]
    },
    {
      "cell_type": "markdown",
      "source": [
        "4.Write a code to check if two given strings are anagrams of each other."
      ],
      "metadata": {
        "id": "mnXec78Y8gxk"
      }
    },
    {
      "cell_type": "code",
      "source": [
        "string1 = \"listen\"\n",
        "string2 = \"silent\"\n",
        "if sorted(string1) == sorted(string2):\n",
        "  print(\"They are anagrams of each other\")\n",
        "else:\n",
        "  print(\"They are not anagrams of each other\")"
      ],
      "metadata": {
        "colab": {
          "base_uri": "https://localhost:8080/"
        },
        "id": "_BQYV8468jkK",
        "outputId": "1ef6ee48-a81d-4a2b-af36-ef689e79a0df"
      },
      "execution_count": null,
      "outputs": [
        {
          "output_type": "stream",
          "name": "stdout",
          "text": [
            "They are anagrams of each other\n"
          ]
        }
      ]
    },
    {
      "cell_type": "markdown",
      "source": [
        "5.Write a code to find all occurrences of a given substring with another string.\n"
      ],
      "metadata": {
        "id": "NOD7OBzh8tst"
      }
    },
    {
      "cell_type": "code",
      "source": [
        "string = \"it goes on and on and on\"\n",
        "sub_str = \"on\"\n",
        "res = [i for i in range(len(string)) if string.startswith(sub_str, i)]\n",
        "print(\"The occurrences given substring are\", res)"
      ],
      "metadata": {
        "colab": {
          "base_uri": "https://localhost:8080/"
        },
        "id": "iP1Hv_Zz8und",
        "outputId": "87233470-1fc9-439e-8d8c-933510cd9d53"
      },
      "execution_count": null,
      "outputs": [
        {
          "output_type": "stream",
          "name": "stdout",
          "text": [
            "The occurrences given substring are [8, 15, 22]\n"
          ]
        }
      ]
    },
    {
      "cell_type": "markdown",
      "source": [
        "6.Write a code to perform basic string compression using the counts of repeated characters.\n",
        "\n"
      ],
      "metadata": {
        "id": "ju00ZNh783BL"
      }
    },
    {
      "cell_type": "code",
      "source": [
        "s = \"aaaasssssddddfffaaa\"\n",
        "compressed=\"\"\n",
        "count=1\n",
        "for i in range(1,len(s)):\n",
        "  if s[i] == s[i-1]:\n",
        "    count += 1\n",
        "  else:\n",
        "    compressed += s[i-1] + str(count)\n",
        "    count = 1\n",
        "compressed += s[i-1] + str(count)\n",
        "print(compressed)"
      ],
      "metadata": {
        "colab": {
          "base_uri": "https://localhost:8080/"
        },
        "id": "dt88xyZi88K1",
        "outputId": "d770d53b-8b86-4bb8-d639-0b850b24b92a"
      },
      "execution_count": null,
      "outputs": [
        {
          "output_type": "stream",
          "name": "stdout",
          "text": [
            "a4s5d4f3a3\n"
          ]
        }
      ]
    },
    {
      "cell_type": "markdown",
      "source": [
        "7.Write a code to determine if a string has all unique characters."
      ],
      "metadata": {
        "id": "DT3U5NwY9E_k"
      }
    },
    {
      "cell_type": "code",
      "source": [
        "string = \"pwskills\"\n",
        "if len(string) == len(set(string)):\n",
        "  print(\"The string has all unique characters\")\n",
        "else:\n",
        "  print(\"The string doesn't have all unique characters\")"
      ],
      "metadata": {
        "colab": {
          "base_uri": "https://localhost:8080/"
        },
        "id": "Fu_Y2NpU9B8T",
        "outputId": "29084598-5956-4cc4-b243-65264d34d16f"
      },
      "execution_count": null,
      "outputs": [
        {
          "output_type": "stream",
          "name": "stdout",
          "text": [
            "The string doesn't have all unique characters\n"
          ]
        }
      ]
    },
    {
      "cell_type": "markdown",
      "source": [
        "8.Write a code to convert a given string to uppercase or lowercase."
      ],
      "metadata": {
        "id": "wZ3f3JYJ9J7v"
      }
    },
    {
      "cell_type": "code",
      "source": [
        "string = \"Good Evening\"\n",
        "print(string.upper())\n",
        "print(string.lower())"
      ],
      "metadata": {
        "colab": {
          "base_uri": "https://localhost:8080/"
        },
        "id": "TnLmrk7q9I3L",
        "outputId": "da0ab36a-7557-462b-9834-c05050b6b797"
      },
      "execution_count": null,
      "outputs": [
        {
          "output_type": "stream",
          "name": "stdout",
          "text": [
            "GOOD EVENING\n",
            "good evening\n"
          ]
        }
      ]
    },
    {
      "cell_type": "markdown",
      "source": [
        "9.Write a code to count the number of words in the string."
      ],
      "metadata": {
        "id": "Px7qtYKO9TgT"
      }
    },
    {
      "cell_type": "code",
      "source": [
        "string = \"Today is a wonderful day.\"\n",
        "words = string.split()\n",
        "words\n",
        "print(\"Number of words in given string:\", len(words))"
      ],
      "metadata": {
        "colab": {
          "base_uri": "https://localhost:8080/"
        },
        "id": "6ynzse7_9Pcy",
        "outputId": "bd1bbfda-5a00-45c3-931a-5de2eef031a4"
      },
      "execution_count": null,
      "outputs": [
        {
          "output_type": "stream",
          "name": "stdout",
          "text": [
            "Number of words in given string: 5\n"
          ]
        }
      ]
    },
    {
      "cell_type": "markdown",
      "source": [
        "10.Write a code to concatenate two strings without using the + operator."
      ],
      "metadata": {
        "id": "7-GoVxsx9Z7S"
      }
    },
    {
      "cell_type": "code",
      "source": [
        "str1 = \"Good\"\n",
        "str2 = \" Evening\"\n",
        "concatenated = f\"{str1}{str2}\"\n",
        "print(concatenated)"
      ],
      "metadata": {
        "colab": {
          "base_uri": "https://localhost:8080/"
        },
        "id": "2ZHNPWtX9Wfp",
        "outputId": "43064676-e291-4585-b588-550aa0bd4925"
      },
      "execution_count": null,
      "outputs": [
        {
          "output_type": "stream",
          "name": "stdout",
          "text": [
            "Good Evening\n"
          ]
        }
      ]
    },
    {
      "cell_type": "markdown",
      "source": [
        "11.Write a code to remove all occurrences of a specific element from a list."
      ],
      "metadata": {
        "id": "Ijwr1FjO9drx"
      }
    },
    {
      "cell_type": "code",
      "source": [
        "list1 = [15,12,14,30,15,21,24,15,46]\n",
        "n = 15\n",
        "for i in list1:\n",
        "  if i == n:\n",
        "    list1.remove(i)\n",
        "print(\"The list after removing '15' element:\")\n",
        "print(list1)\n"
      ],
      "metadata": {
        "colab": {
          "base_uri": "https://localhost:8080/"
        },
        "id": "XBWibzxe9ciJ",
        "outputId": "0da4a1f0-ecf6-4f57-fbc6-2328a00f1ce9"
      },
      "execution_count": null,
      "outputs": [
        {
          "output_type": "stream",
          "name": "stdout",
          "text": [
            "The list after removing '15' element:\n",
            "[12, 14, 30, 21, 24, 46]\n"
          ]
        }
      ]
    },
    {
      "cell_type": "markdown",
      "source": [
        "12.Implement a code to find the second largest number in a given list of integers.\n",
        "\n"
      ],
      "metadata": {
        "id": "Q6_9fQn89sBm"
      }
    },
    {
      "cell_type": "code",
      "source": [
        "numbers = [12, 33, 56, 33, 35, 25, 67, 87, 78, 99]\n",
        "unique_numbers = set(numbers)\n",
        "sorted_list = sorted(unique_numbers, reverse=True)\n",
        "if len(sorted_list) > 1:\n",
        "    second_largest = sorted_list[1]\n",
        "else:\n",
        "    second_largest = None\n",
        "print(\"The second largest number in a given list of integers is:\", second_largest)"
      ],
      "metadata": {
        "colab": {
          "base_uri": "https://localhost:8080/"
        },
        "id": "lAFyRVAz9pom",
        "outputId": "e62273bb-7c64-4607-d332-9516c94dd021"
      },
      "execution_count": null,
      "outputs": [
        {
          "output_type": "stream",
          "name": "stdout",
          "text": [
            "The second largest number in a given list of integers is: 87\n"
          ]
        }
      ]
    },
    {
      "cell_type": "markdown",
      "source": [
        "13.Create a code to count the occurrences of each element in list and return a dictionary with elements as keys and their counts as values."
      ],
      "metadata": {
        "id": "L396RkH0-JZC"
      }
    },
    {
      "cell_type": "code",
      "source": [
        "IPL_Winners = [\"RR\",\"DC\",\"CSK\",\"CSK\",\"KKR\",\"MI\",\"KKR\",\"MI\",\"SRH\",\"MI\",\"CSK\",\"MI\",\"MI\",\"CSK\",\"GT\",\"CSK\",\"KKR\"]\n",
        "No_of_times = {}\n",
        "for team in IPL_Winners:\n",
        "  if team in No_of_times:\n",
        "    No_of_times[team] += 1\n",
        "  else:\n",
        "    No_of_times[team] = 1\n",
        "print(\"Teams with number of IPL cups:\",No_of_times)"
      ],
      "metadata": {
        "colab": {
          "base_uri": "https://localhost:8080/"
        },
        "id": "xyKoXHj2a7k2",
        "outputId": "c6b18398-17b3-4201-aaa1-8bd3bc9a53a5"
      },
      "execution_count": null,
      "outputs": [
        {
          "output_type": "stream",
          "name": "stdout",
          "text": [
            "Teams with number of IPL cups: {'RR': 1, 'DC': 1, 'CSK': 5, 'KKR': 3, 'MI': 5, 'SRH': 1, 'GT': 1}\n"
          ]
        }
      ]
    },
    {
      "cell_type": "markdown",
      "source": [
        "14.Write a code to reverse a list in-place without using any built-in reverse functions."
      ],
      "metadata": {
        "id": "0wZ3iASw-jsT"
      }
    },
    {
      "cell_type": "code",
      "source": [
        "  list1 = [33,55,21,12,37,82,77]\n",
        "  length = len(list1)\n",
        "  for i in range(length//2):\n",
        "     list1[i],list1[length - 1 -i] = list1[length - 1 -i],list1[i]\n",
        "  print(list1)"
      ],
      "metadata": {
        "colab": {
          "base_uri": "https://localhost:8080/"
        },
        "id": "KunKKDkvezVy",
        "outputId": "7addada3-8f97-4569-8e4f-05573647c1fb"
      },
      "execution_count": null,
      "outputs": [
        {
          "output_type": "stream",
          "name": "stdout",
          "text": [
            "[77, 82, 37, 12, 21, 55, 33]\n"
          ]
        }
      ]
    },
    {
      "cell_type": "markdown",
      "source": [
        "15.Implement a code to find and remove duplicates from a list while preserving the original order of elements."
      ],
      "metadata": {
        "id": "FqMQCz0Y-riO"
      }
    },
    {
      "cell_type": "code",
      "source": [
        "initial_list = [\"hi\",\"hello\",\"hi\",\"hi\",\"hello\",\"good day\"]\n",
        "unique_list = []\n",
        "for i in initial_list:\n",
        "  if i not in unique_list:\n",
        "    unique_list.append(i)\n",
        "print(unique_list)"
      ],
      "metadata": {
        "colab": {
          "base_uri": "https://localhost:8080/"
        },
        "id": "TeiNaDnh-36K",
        "outputId": "279b9d4f-449e-4db2-a68b-58321e308d54"
      },
      "execution_count": null,
      "outputs": [
        {
          "output_type": "stream",
          "name": "stdout",
          "text": [
            "['hi', 'hello', 'good day']\n"
          ]
        }
      ]
    },
    {
      "cell_type": "markdown",
      "source": [
        "16.Create a code to check if a given list is sorted (either in ascending or descending order) or not."
      ],
      "metadata": {
        "id": "p2MfbRt1_BwU"
      }
    },
    {
      "cell_type": "code",
      "source": [
        "given_list = [12, 14, 23, 28, 37,42, 48]\n",
        "if given_list == sorted(given_list):\n",
        "  print(\"The given list is sorted in ascending order.\")\n",
        "elif given_list == sorted(given_list,reverse=True):\n",
        "  print(\"The given list is sorted in descending order.\")\n",
        "else:\n",
        "  print(\"The given list is not sorted\")"
      ],
      "metadata": {
        "id": "mUj4A-vM-83s",
        "colab": {
          "base_uri": "https://localhost:8080/"
        },
        "outputId": "f79d0784-eaa1-42d0-caf8-883c9d321ced"
      },
      "execution_count": null,
      "outputs": [
        {
          "output_type": "stream",
          "name": "stdout",
          "text": [
            "The given list is sorted in ascending order.\n"
          ]
        }
      ]
    },
    {
      "cell_type": "markdown",
      "source": [
        "17.Write a code to merge two sorted lists into a single sorted list."
      ],
      "metadata": {
        "id": "hryxdssHjYAO"
      }
    },
    {
      "cell_type": "code",
      "source": [
        "list1 = [3,6,9,12,15]\n",
        "list2 = [5,10,15,20,25]\n",
        "merged_list = list1 + list2\n",
        "single_sorted = sorted(merged_list)\n",
        "print(\"Merged sorted list:\", single_sorted)"
      ],
      "metadata": {
        "colab": {
          "base_uri": "https://localhost:8080/"
        },
        "id": "TSfupdBfjEI7",
        "outputId": "4589f36e-e574-4ba4-87df-287f3dda1433"
      },
      "execution_count": null,
      "outputs": [
        {
          "output_type": "stream",
          "name": "stdout",
          "text": [
            "Merged sorted list: [3, 5, 6, 9, 10, 12, 15, 15, 20, 25]\n"
          ]
        }
      ]
    },
    {
      "cell_type": "markdown",
      "source": [
        "18.Implement a code to find the intersection of two given lists."
      ],
      "metadata": {
        "id": "zP80S_PsmDJt"
      }
    },
    {
      "cell_type": "code",
      "source": [
        "list1 = [3,6,9,12,15,18]\n",
        "list2 = [9,18,27,36,45,54]\n",
        "intersection = []\n",
        "for i in list1:\n",
        "  if i in list2:\n",
        "    intersection.append(i)\n",
        "print(\"Intersection of two given lists:\", intersection)"
      ],
      "metadata": {
        "colab": {
          "base_uri": "https://localhost:8080/"
        },
        "id": "9nEsNEXEknXw",
        "outputId": "cf5cd759-f107-4f8b-d9b7-589473b937df"
      },
      "execution_count": null,
      "outputs": [
        {
          "output_type": "stream",
          "name": "stdout",
          "text": [
            "Intersection of two given lists: [9, 18]\n"
          ]
        }
      ]
    },
    {
      "cell_type": "markdown",
      "source": [
        "19.Create a code to find the union of two lists without duplicates."
      ],
      "metadata": {
        "id": "TVQKMlEFnUF4"
      }
    },
    {
      "cell_type": "code",
      "source": [
        "list1 = [3,6,9,12,15,18]\n",
        "list2 = [9,18,27,36,45,54]\n",
        "union = []\n",
        "for i in list1:\n",
        "  if i not in union:\n",
        "    union.append(i)\n",
        "for j in list2:\n",
        "  if j not in union:\n",
        "    union.append(j)\n",
        "print(\"union of given lists without duplicates:\", union)"
      ],
      "metadata": {
        "colab": {
          "base_uri": "https://localhost:8080/"
        },
        "id": "wZ6npeLZnFlJ",
        "outputId": "d50a9998-8eba-45ca-a612-7d704c2bde08"
      },
      "execution_count": null,
      "outputs": [
        {
          "output_type": "stream",
          "name": "stdout",
          "text": [
            "union of given lists without duplicates: [3, 6, 9, 12, 15, 18, 27, 36, 45, 54]\n"
          ]
        }
      ]
    },
    {
      "cell_type": "markdown",
      "source": [
        "20.Write a code to shuffle a given list randomly without using any built-in shuffle functions."
      ],
      "metadata": {
        "id": "L7rwbSuJrlx8"
      }
    },
    {
      "cell_type": "code",
      "source": [
        "given_list = [1,2,3,4,5,6,7,8,9]\n",
        "length = len(given_list)\n",
        "for i in range(length):\n",
        "  j = (i*2+1)%length\n",
        "  given_list[i],given_list[j] = given_list[j],given_list[i]\n",
        "print(\"Shuffled list:\",given_list)"
      ],
      "metadata": {
        "colab": {
          "base_uri": "https://localhost:8080/"
        },
        "id": "qOysO5gGo58l",
        "outputId": "fae3603d-d269-4503-887e-03c902429954"
      },
      "execution_count": null,
      "outputs": [
        {
          "output_type": "stream",
          "name": "stdout",
          "text": [
            "Shuffled list: [5, 4, 3, 8, 7, 6, 1, 2, 9]\n"
          ]
        }
      ]
    },
    {
      "cell_type": "markdown",
      "source": [
        "21.Write a code that takes two tuples as input and returns a new tuple containing elements that are\n",
        "common to both input tuples."
      ],
      "metadata": {
        "id": "0BPphlLtubwU"
      }
    },
    {
      "cell_type": "code",
      "source": [
        "tuple1 = (4,8,12,16,20,24)\n",
        "tuple2 = (6,12,18,24)\n",
        "new_tuple = tuple(i for i in tuple1 if i in tuple2)\n",
        "print(\"New tuple is:\", new_tuple)"
      ],
      "metadata": {
        "colab": {
          "base_uri": "https://localhost:8080/"
        },
        "id": "z4mtBVPataqG",
        "outputId": "9b588946-625e-4363-f646-258033d28a78"
      },
      "execution_count": null,
      "outputs": [
        {
          "output_type": "stream",
          "name": "stdout",
          "text": [
            "New tuple is: (12, 24)\n"
          ]
        }
      ]
    },
    {
      "cell_type": "markdown",
      "source": [
        "22.Create a code that prompts the user to enter two sets of integers separated by commas. Then, print the\n",
        "intersection of these two sets."
      ],
      "metadata": {
        "id": "DkVl8I1MwRs3"
      }
    },
    {
      "cell_type": "code",
      "source": [
        "set1_input = input(\"Enter your first set of integers using commas:\")\n",
        "set1 = set(int(num) for num in set1_input.split(','))\n",
        "set2_input = input(\"Enter your second set of integers using commas:\")\n",
        "set2 = set(int(num) for num in set2_input.split(','))\n",
        "intersection = set1 & set2\n",
        "print(\"Intersection of given sets:\", intersection)"
      ],
      "metadata": {
        "colab": {
          "base_uri": "https://localhost:8080/"
        },
        "id": "D8LUANsSxQoV",
        "outputId": "44a91448-c5c0-40de-c3b0-e12411d84287"
      },
      "execution_count": null,
      "outputs": [
        {
          "output_type": "stream",
          "name": "stdout",
          "text": [
            "Enter your first set of integers using commas:3,4,7,8,9,1,2,6\n",
            "Enter your second set of integers using commas:1,3,5,6\n",
            "Intersection of given sets: {1, 3, 6}\n"
          ]
        }
      ]
    },
    {
      "cell_type": "markdown",
      "source": [
        "23.Write a code to concatenate two tuples. The function should take two tuples as input and return a new\n",
        "tuple containing elements from both input tuples."
      ],
      "metadata": {
        "id": "N3wB9DB11oMf"
      }
    },
    {
      "cell_type": "code",
      "source": [
        "tuple1 = (1,3,5)\n",
        "tuple2 = (4,5,6)\n",
        "combined_tuple = tuple1 + tuple2\n",
        "print(\"Concatenated tuple:\", combined_tuple)"
      ],
      "metadata": {
        "colab": {
          "base_uri": "https://localhost:8080/"
        },
        "id": "LdRyp1Xx2CSb",
        "outputId": "4d22ac50-33d8-4b80-f563-2869b1d093ca"
      },
      "execution_count": null,
      "outputs": [
        {
          "output_type": "stream",
          "name": "stdout",
          "text": [
            "Concatenated tuple: (1, 3, 5, 4, 5, 6)\n"
          ]
        }
      ]
    },
    {
      "cell_type": "markdown",
      "source": [
        "24.Develop a code that prompts the user to input two sets of strings. Then, print the elements that are\n",
        "present in the first set but not in the second set."
      ],
      "metadata": {
        "id": "m2lV6xB93R_k"
      }
    },
    {
      "cell_type": "code",
      "source": [
        "set1_input = input(\"Enter your first set of strings using commas:\")\n",
        "set1 = set(string.strip() for string in set1_input.split(','))\n",
        "set2_input = input(\"Enter your second set of strings using commas:\")\n",
        "set2 = set(string.strip() for string in set2_input.split(','))\n",
        "difference = set1 - set2\n",
        "print(\"The elements that are present in first set but not in second set are:\", difference)"
      ],
      "metadata": {
        "colab": {
          "base_uri": "https://localhost:8080/"
        },
        "id": "JgrEbG3J3IwY",
        "outputId": "3a9f39a3-b924-4967-800d-bf9410e26751"
      },
      "execution_count": null,
      "outputs": [
        {
          "output_type": "stream",
          "name": "stdout",
          "text": [
            "Enter your first set of strings using commas:CSK,MI,DC,RCB,GT,SRH\n",
            "Enter your second set of strings using commas:KKR,RCB,DC,LSG,SRH\n",
            "The elements that are present in first set but not in second set are: {'MI', 'GT', 'CSK'}\n"
          ]
        }
      ]
    },
    {
      "cell_type": "markdown",
      "source": [
        "25.Create a code that takes a tuple and two integers as input. The function should return a new tuple\n",
        "containing elements from the original tuple within the specified range of indices."
      ],
      "metadata": {
        "id": "BA_GBLvQ6FrG"
      }
    },
    {
      "cell_type": "code",
      "source": [
        "tuple_input = input(\"Enter a tuple of elements separated by commmas:\")\n",
        "original_tuple = tuple(item.strip() for item in tuple_input.split(','))\n",
        "first_index = int(input(\"Enter the first integer (index): \"))\n",
        "second_index = int(input(\"Enter the second integer (index): \"))\n",
        "if first_index < second_index:\n",
        "    new_tuple = original_tuple[first_index:second_index]\n",
        "else:\n",
        "    new_tuple = original_tuple[second_index:first_index]\n",
        "print(\"New tuple with elements from the specified indices:\", new_tuple)\n"
      ],
      "metadata": {
        "colab": {
          "base_uri": "https://localhost:8080/"
        },
        "id": "jsXMp64y6JJC",
        "outputId": "c796697a-f99e-48f9-8953-277b25fe9a47"
      },
      "execution_count": null,
      "outputs": [
        {
          "output_type": "stream",
          "name": "stdout",
          "text": [
            "Enter a tuple of elements separated by commmas:CSK,MI,DC,RCB,GT,SRH,KKR,LSG,GT\n",
            "Enter the first integer (index): 5\n",
            "Enter the second integer (index): 1\n",
            "New tuple with elements from the specified indices: ('MI', 'DC', 'RCB', 'GT')\n"
          ]
        }
      ]
    },
    {
      "cell_type": "markdown",
      "source": [
        "26.Write a code that prompts the user to input two sets of characters. Then, print the union of these two sets."
      ],
      "metadata": {
        "id": "1Ww2Ly57H-hE"
      }
    },
    {
      "cell_type": "code",
      "source": [
        "set1_input = input(\"Enter your first set of characters using commas:\")\n",
        "set1 = set(item.strip() for item in set1_input.split(','))\n",
        "set2_input = input(\"Enter your second set of characters using commas:\")\n",
        "set2 = set(item.strip() for item in set2_input.split(','))\n",
        "union = set1 | set2\n",
        "print(\"Union of given sets:\", union)"
      ],
      "metadata": {
        "id": "s1FuLKN2BoT2",
        "colab": {
          "base_uri": "https://localhost:8080/"
        },
        "outputId": "07468ac1-529f-4d94-8b4f-913aea8e6332"
      },
      "execution_count": null,
      "outputs": [
        {
          "output_type": "stream",
          "name": "stdout",
          "text": [
            "Enter your first set of characters using commas:onion,lemon,tomato,55,True\n",
            "Enter your second set of characters using commas:lemon,salt,pickle, 75\n",
            "Union of given sets: {'onion', '55', 'pickle', 'salt', 'lemon', 'True', '75', 'tomato'}\n"
          ]
        }
      ]
    },
    {
      "cell_type": "markdown",
      "source": [
        "27.Develop a code that takes a tuple of integers as input. The function should return the maximum and\n",
        "minimum values from the tuple using tuple unpacking.\n"
      ],
      "metadata": {
        "id": "q9gCFRMLLMmV"
      }
    },
    {
      "cell_type": "code",
      "source": [
        "input_tuple = input(\"Enter the integers using commas:\")\n",
        "integer_tuple = tuple(int(num) for num in input_tuple.split(','))\n",
        "max_value = max(integer_tuple)\n",
        "min_value = min(integer_tuple)\n",
        "result = (max_value, min_value)\n",
        "print(\"Maximum value:\", max_value)\n",
        "print(\"Minimum value:\", min_value)"
      ],
      "metadata": {
        "colab": {
          "base_uri": "https://localhost:8080/"
        },
        "id": "u2HOGQVrIiLi",
        "outputId": "18dac092-9039-43f8-d55d-db17637fb62f"
      },
      "execution_count": null,
      "outputs": [
        {
          "output_type": "stream",
          "name": "stdout",
          "text": [
            "Enter the integers using commas:55,78,32,84,12,06,33\n",
            "Maximum value: 84\n",
            "Minimum value: 6\n"
          ]
        }
      ]
    },
    {
      "cell_type": "markdown",
      "source": [
        "28.Create a code that defines two sets of integers. Then, print the union, intersection, and difference of these\n",
        "two sets."
      ],
      "metadata": {
        "id": "z5ibrha3OW7A"
      }
    },
    {
      "cell_type": "code",
      "source": [
        "set1 = {2,4,6,8,10,12,14,16,18,20}\n",
        "set2 = {3,6,9,12,15,18,21}\n",
        "union = set1 | set2\n",
        "intersection = set1 & set2\n",
        "difference = set1 - set2\n",
        "print(\"Set 1:\", set1)\n",
        "print(\"Set 2:\", set2)\n",
        "print(\"Union of the two sets:\", union)\n",
        "print(\"Intersection of the two sets:\", intersection)\n",
        "print(\"Difference of Set 1 from Set 2:\", difference)"
      ],
      "metadata": {
        "colab": {
          "base_uri": "https://localhost:8080/"
        },
        "id": "9o3dI9OVOANd",
        "outputId": "99a593c9-d684-4682-b140-073ab676462e"
      },
      "execution_count": null,
      "outputs": [
        {
          "output_type": "stream",
          "name": "stdout",
          "text": [
            "Set 1: {2, 4, 6, 8, 10, 12, 14, 16, 18, 20}\n",
            "Set 2: {18, 3, 21, 6, 9, 12, 15}\n",
            "Union of the two sets: {2, 3, 4, 6, 8, 9, 10, 12, 14, 15, 16, 18, 20, 21}\n",
            "Intersection of the two sets: {18, 12, 6}\n",
            "Difference of Set 1 from Set 2: {2, 4, 8, 10, 14, 16, 20}\n"
          ]
        }
      ]
    },
    {
      "cell_type": "markdown",
      "source": [
        "29.Write a code that takes a tuple and an element as input. The function should return the count of\n",
        "occurrences of the given element in the tuple."
      ],
      "metadata": {
        "id": "t4QmNeYYPTQe"
      }
    },
    {
      "cell_type": "code",
      "source": [
        "tuple_input = input(\"Enter a tuple of elements separated by commas: \")\n",
        "input_tuple = tuple(item.strip() for item in tuple_input.split(','))\n",
        "element = input(\"Enter the element to count: \")\n",
        "count = input_tuple.count(element)\n",
        "print(\"The element\", element, \"occurs\", count, \"times in the tuple.\")"
      ],
      "metadata": {
        "colab": {
          "base_uri": "https://localhost:8080/"
        },
        "id": "E-RN421aPEOE",
        "outputId": "8221609f-1637-4812-af25-3e83ea61321c"
      },
      "execution_count": null,
      "outputs": [
        {
          "output_type": "stream",
          "name": "stdout",
          "text": [
            "Enter a tuple of elements separated by commas: it, goes, on, and, on, on , on\n",
            "Enter the element to count: on\n",
            "The element on occurs 4 times in the tuple.\n"
          ]
        }
      ]
    },
    {
      "cell_type": "markdown",
      "source": [
        "30.Develop a code that prompts the user to input two sets of strings. Then, print the symmetric difference of\n",
        "these two sets."
      ],
      "metadata": {
        "id": "T0-kQH4tQdwz"
      }
    },
    {
      "cell_type": "code",
      "source": [
        "set1_input = input(\"Enter your first set of strings separated by commas: \")\n",
        "set1 = set(item.strip() for item in set1_input.split(','))\n",
        "set2_input = input(\"Enter your second set of strings separated by commas: \")\n",
        "set2 = set(item.strip() for item in set2_input.split(','))\n",
        "symmetric_difference = set1 ^ set2\n",
        "print(\"Symmetric difference of the two sets:\", symmetric_difference)\n"
      ],
      "metadata": {
        "colab": {
          "base_uri": "https://localhost:8080/"
        },
        "id": "UiQHeD9gR3gS",
        "outputId": "68846221-24d0-433f-e25d-d60310183bb0"
      },
      "execution_count": null,
      "outputs": [
        {
          "output_type": "stream",
          "name": "stdout",
          "text": [
            "Enter your first set of strings separated by commas: 5,7,11,23,6\n",
            "Enter your second set of strings separated by commas: 7,6,12,24\n",
            "Symmetric difference of the two sets: {'24', '5', '11', '23', '12'}\n"
          ]
        }
      ]
    },
    {
      "cell_type": "markdown",
      "source": [
        "31.Write a code that takes a list of words as input and returns a dictionary where the keys are unique words\n",
        "and the values are the frequencies of those words in the input list."
      ],
      "metadata": {
        "id": "AXlp6iJBSkni"
      }
    },
    {
      "cell_type": "code",
      "source": [
        "IPL_Winners = [\"RR\",\"DC\",\"CSK\",\"CSK\",\"KKR\",\"MI\",\"KKR\",\"MI\",\"SRH\",\"MI\",\"CSK\",\"MI\",\"MI\",\"CSK\",\"GT\",\"CSK\",\"KKR\"]\n",
        "No_of_times = {}\n",
        "for team in IPL_Winners:\n",
        "  if team in No_of_times:\n",
        "    No_of_times[team] += 1\n",
        "  else:\n",
        "    No_of_times[team] = 1\n",
        "print(\"Teams with number of IPL cups:\",No_of_times)"
      ],
      "metadata": {
        "colab": {
          "base_uri": "https://localhost:8080/"
        },
        "id": "1ywUK5X2SB0t",
        "outputId": "809e2a66-7e5c-4ec6-f821-d876f0d321a8"
      },
      "execution_count": null,
      "outputs": [
        {
          "output_type": "stream",
          "name": "stdout",
          "text": [
            "Teams with number of IPL cups: {'RR': 1, 'DC': 1, 'CSK': 5, 'KKR': 3, 'MI': 5, 'SRH': 1, 'GT': 1}\n"
          ]
        }
      ]
    },
    {
      "cell_type": "markdown",
      "source": [
        "32.Write a code that takes two dictionaries as input and merges them into a single dictionary. If there are\n",
        "common keys, the values should be added together."
      ],
      "metadata": {
        "id": "NNquv818UNas"
      }
    },
    {
      "cell_type": "code",
      "source": [
        "dict1 = {'a': 1, 'b': 2, 'c': 3}\n",
        "dict2 = {'b': 3, 'c': 4, 'd': 5}\n",
        "merged_dict = dict1.copy()\n",
        "for key, value in dict2.items():\n",
        "    if key in merged_dict:\n",
        "        merged_dict[key] += value\n",
        "    else:\n",
        "        merged_dict[key] = value\n",
        "print(\"Merged Dictionary:\", merged_dict)"
      ],
      "metadata": {
        "colab": {
          "base_uri": "https://localhost:8080/"
        },
        "id": "iX5espztUEmZ",
        "outputId": "35ed2348-7f76-43fc-89fa-a1f44d21355f"
      },
      "execution_count": null,
      "outputs": [
        {
          "output_type": "stream",
          "name": "stdout",
          "text": [
            "Merged Dictionary: {'a': 1, 'b': 5, 'c': 7, 'd': 5}\n"
          ]
        }
      ]
    },
    {
      "cell_type": "markdown",
      "source": [
        "33.Write a code to access a value in a nested dictionary. The function should take the dictionary and a list of\n",
        "keys as input, and return the corresponding value. If any of the keys do not exist in the dictionary, the\n",
        "function should return None."
      ],
      "metadata": {
        "id": "-C9Iyf2YVZhG"
      }
    },
    {
      "cell_type": "code",
      "source": [
        "nested_dict = {\n",
        "    'a':{\n",
        "        'b':{\n",
        "            'c':1,\n",
        "            'd':2\n",
        "        }\n",
        "    },\n",
        "    'x':{\n",
        "        'y':3\n",
        "    }\n",
        "}\n",
        "\n",
        "keys = ['a', 'b', 'c']\n",
        "current_level = nested_dict\n",
        "for key in keys:\n",
        "    if key in current_level:\n",
        "        current_level = current_level[key]  # Fixed: use current_level\n",
        "    else:\n",
        "        current_level = None\n",
        "        break\n",
        "\n",
        "print(\"value:\", current_level)\n"
      ],
      "metadata": {
        "id": "qx-LjeCOVFto",
        "colab": {
          "base_uri": "https://localhost:8080/"
        },
        "outputId": "64c242a3-a953-4622-aaa8-7c77db00d42d"
      },
      "execution_count": null,
      "outputs": [
        {
          "output_type": "stream",
          "name": "stdout",
          "text": [
            "value: 1\n"
          ]
        }
      ]
    },
    {
      "cell_type": "markdown",
      "source": [
        "34.Write a code that takes a dictionary as input and returns a sorted version of it based on the values. You\n",
        "can choose whether to sort in ascending or descending order."
      ],
      "metadata": {
        "id": "iEXFSHY1mshR"
      }
    },
    {
      "cell_type": "code",
      "source": [
        "input_dict = {'apple': 5, 'banana': 2, 'orange': 8, 'grapes': 3}\n",
        "items = list(input_dict.items())\n",
        "for i in range(len(items)):\n",
        "    for j in range(len(items) - 1):\n",
        "        if items[j][1] > items[j + 1][1]:\n",
        "            items[j], items[j + 1] = items[j + 1], items[j]\n",
        "sorted_dict_ascending = dict(items)\n",
        "for i in range(len(items)):\n",
        "    for j in range(len(items) - 1):\n",
        "        if items[j][1] < items[j + 1][1]:\n",
        "            items[j], items[j + 1] = items[j + 1], items[j]\n",
        "sorted_dict_descending = dict(items)\n",
        "print(\"Sorted in ascending order:\", sorted_dict_ascending)\n",
        "print(\"Sorted in descending order:\", sorted_dict_descending)\n"
      ],
      "metadata": {
        "colab": {
          "base_uri": "https://localhost:8080/"
        },
        "id": "pBnIS8mkoLAK",
        "outputId": "b8eb0f5c-4ccb-4ccb-9b7f-436df12528be"
      },
      "execution_count": 2,
      "outputs": [
        {
          "output_type": "stream",
          "name": "stdout",
          "text": [
            "Sorted in ascending order: {'banana': 2, 'grapes': 3, 'apple': 5, 'orange': 8}\n",
            "Sorted in descending order: {'orange': 8, 'apple': 5, 'grapes': 3, 'banana': 2}\n"
          ]
        }
      ]
    },
    {
      "cell_type": "markdown",
      "source": [
        "35.Write a code that inverts a dictionary, swapping keys and values. Ensure that the inverted dictionary\n",
        "correctly handles cases where multiple keys have the same value by storing the keys as a list in the\n",
        "inverted dictionary."
      ],
      "metadata": {
        "id": "EKYCfCKypV7c"
      }
    },
    {
      "cell_type": "code",
      "source": [
        "original_dict = {\n",
        "    'a': 1,\n",
        "    'b': 2,\n",
        "    'c': 1,\n",
        "    'd': 3,\n",
        "    'e': 2\n",
        "}\n",
        "inverted_dict = {}\n",
        "for key, value in original_dict.items():\n",
        "    if value in inverted_dict:\n",
        "        inverted_dict[value].append(key)\n",
        "    else:\n",
        "        inverted_dict[value] = [key]\n",
        "print(\"Inverted dictionary:\", inverted_dict)\n"
      ],
      "metadata": {
        "colab": {
          "base_uri": "https://localhost:8080/"
        },
        "id": "X06Y6hs8pJ-e",
        "outputId": "cd74bdd0-63e8-4218-e567-ae0cc0e4e418"
      },
      "execution_count": 3,
      "outputs": [
        {
          "output_type": "stream",
          "name": "stdout",
          "text": [
            "Inverted dictionary: {1: ['a', 'c'], 2: ['b', 'e'], 3: ['d']}\n"
          ]
        }
      ]
    }
  ]
}